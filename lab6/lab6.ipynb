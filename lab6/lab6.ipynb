{
  "cells": [
    {
      "cell_type": "markdown",
      "metadata": {
        "id": "EjAk1mRguvAD"
      },
      "source": [
        "### **0. Подготовка обучающей и тестовой выборки**"
      ]
    },
    {
      "cell_type": "code",
      "execution_count": 1,
      "metadata": {
        "id": "4yYZ4e5zuvAF"
      },
      "outputs": [],
      "source": [
        "import numpy as np\n",
        "import pandas as pd\n",
        "from sklearn.datasets import fetch_openml\n",
        "from sklearn.model_selection import train_test_split\n",
        "from sklearn.metrics import mean_absolute_error, mean_squared_error, r2_score\n",
        "from sklearn.ensemble import StackingRegressor\n",
        "from sklearn.linear_model import Ridge\n",
        "from sklearn.tree import DecisionTreeRegressor\n",
        "from sklearn.neural_network import MLPRegressor\n",
        "from sklearn.preprocessing import StandardScaler"
      ]
    },
    {
      "cell_type": "code",
      "execution_count": 2,
      "metadata": {
        "id": "viDUp2s9uvAG"
      },
      "outputs": [],
      "source": [
        "def evaluate_model(name, y_true, y_pred):\n",
        "    mae = mean_absolute_error(y_true, y_pred)\n",
        "    mse = mean_squared_error(y_true, y_pred)\n",
        "    r2 = r2_score(y_true, y_pred)\n",
        "    print(f\"{name}: MAE = {mae:.2f}, MSE = {mse:.2f}, R² = {r2:.2f}\")"
      ]
    },
    {
      "cell_type": "code",
      "execution_count": 3,
      "metadata": {
        "colab": {
          "base_uri": "https://localhost:8080/"
        },
        "id": "uC6Pi2rsuvAG",
        "outputId": "4111be1a-2b94-4e8a-d53f-1c08ede1837e"
      },
      "outputs": [
        {
          "output_type": "stream",
          "name": "stderr",
          "text": [
            "/usr/local/lib/python3.11/dist-packages/sklearn/datasets/_openml.py:301: UserWarning: Multiple active versions of the dataset matching the name boston exist. Versions may be fundamentally different, returning version 1.\n",
            "  warn(\n",
            "/usr/local/lib/python3.11/dist-packages/sklearn/datasets/_openml.py:968: FutureWarning: The default value of `parser` will change from `'liac-arff'` to `'auto'` in 1.4. You can set `parser='auto'` to silence this warning. Therefore, an `ImportError` will be raised from 1.4 if the dataset is dense and pandas is not installed. Note that the pandas parser may return different data types. See the Notes Section in fetch_openml's API doc for details.\n",
            "  warn(\n"
          ]
        }
      ],
      "source": [
        "# 1. Загрузка данных\n",
        "boston = fetch_openml(name='boston', as_frame=True)\n",
        "X = boston.data\n",
        "y = boston.target"
      ]
    },
    {
      "cell_type": "code",
      "execution_count": 4,
      "metadata": {
        "colab": {
          "base_uri": "https://localhost:8080/"
        },
        "id": "hkiAwRJJuvAG",
        "outputId": "8cad46e1-37c7-4835-c471-260fd10b0517"
      },
      "outputs": [
        {
          "output_type": "stream",
          "name": "stdout",
          "text": [
            "Пропуски в данных: 0\n"
          ]
        }
      ],
      "source": [
        "print(\"Пропуски в данных:\", X.isnull().sum().sum())"
      ]
    },
    {
      "cell_type": "code",
      "execution_count": 5,
      "metadata": {
        "id": "LpndQ61tuvAH"
      },
      "outputs": [],
      "source": [
        "# Масштабирование\n",
        "scaler = StandardScaler()\n",
        "X_scaled = scaler.fit_transform(X)"
      ]
    },
    {
      "cell_type": "code",
      "execution_count": 6,
      "metadata": {
        "id": "D8jHRC_VuvAH"
      },
      "outputs": [],
      "source": [
        "X_train, X_test, y_train, y_test = train_test_split(X_scaled, y, test_size=0.2, random_state=42)"
      ]
    },
    {
      "cell_type": "markdown",
      "metadata": {
        "id": "v72PrEXNuvAH"
      },
      "source": [
        "### **1. Обучение моделей**"
      ]
    },
    {
      "cell_type": "markdown",
      "metadata": {
        "id": "-X7CLx8HuvAH"
      },
      "source": [
        "#### **1.1 Стекинг**"
      ]
    },
    {
      "cell_type": "code",
      "execution_count": 7,
      "metadata": {
        "colab": {
          "base_uri": "https://localhost:8080/"
        },
        "id": "fypGwmuzuvAH",
        "outputId": "824500ce-f7b7-42a2-a4db-4067fd2763c2"
      },
      "outputs": [
        {
          "output_type": "stream",
          "name": "stdout",
          "text": [
            "Stacking: MAE = 2.42, MSE = 12.36, R² = 0.83\n"
          ]
        }
      ],
      "source": [
        "base_models = [\n",
        "    ('ridge', Ridge()),\n",
        "    ('tree', DecisionTreeRegressor(random_state=42))\n",
        "]\n",
        "\n",
        "stacking_model = StackingRegressor(\n",
        "    estimators=base_models,\n",
        "    final_estimator=Ridge()\n",
        ")\n",
        "\n",
        "stacking_model.fit(X_train, y_train)\n",
        "y_pred_stack = stacking_model.predict(X_test)\n",
        "evaluate_model(\"Stacking\", y_test, y_pred_stack)"
      ]
    },
    {
      "cell_type": "markdown",
      "metadata": {
        "id": "I8-CVAv4uvAI"
      },
      "source": [
        "#### **1.2 Многослойный перцептрон**"
      ]
    },
    {
      "cell_type": "markdown",
      "metadata": {
        "id": "1W2alVD5uvAI"
      },
      "source": [
        "Как бэггинг, только случайна не только обучающая подвыборка, но и подмножество обучающих признаков"
      ]
    },
    {
      "cell_type": "code",
      "execution_count": 8,
      "metadata": {
        "colab": {
          "base_uri": "https://localhost:8080/"
        },
        "id": "jyemlcskuvAI",
        "outputId": "0af3ef4f-f926-4926-8039-1783bec58e48"
      },
      "outputs": [
        {
          "output_type": "stream",
          "name": "stdout",
          "text": [
            "MLP: MAE = 2.32, MSE = 13.18, R² = 0.82\n"
          ]
        }
      ],
      "source": [
        "mlp = MLPRegressor(hidden_layer_sizes=(100, 50), max_iter=1000, random_state=42)\n",
        "mlp.fit(X_train, y_train)\n",
        "y_pred_mlp = mlp.predict(X_test)\n",
        "evaluate_model(\"MLP\", y_test, y_pred_mlp)"
      ]
    },
    {
      "cell_type": "markdown",
      "metadata": {
        "id": "1zP_yXkHuvAI"
      },
      "source": [
        "#### **1.3 COMBI (линейный)**"
      ]
    },
    {
      "cell_type": "markdown",
      "metadata": {
        "id": "cMY52cHduvAI"
      },
      "source": [
        "метод перебора комбинаций математических операций и переменных"
      ]
    },
    {
      "cell_type": "code",
      "execution_count": 9,
      "metadata": {
        "colab": {
          "base_uri": "https://localhost:8080/"
        },
        "id": "8iBkvI3nuvAI",
        "outputId": "63403a9c-c36a-412f-9754-cfad071be5e8"
      },
      "outputs": [
        {
          "output_type": "stream",
          "name": "stdout",
          "text": [
            "COMBI: MAE = 3.20, MSE = 25.15, R² = 0.66\n"
          ]
        }
      ],
      "source": [
        "import gmdh\n",
        "combi_model = gmdh.Combi()\n",
        "combi_model.fit(X_train, y_train)\n",
        "y_pred_combi = combi_model.predict(X_test)\n",
        "evaluate_model(\"COMBI\", y_test, y_pred_combi)"
      ]
    },
    {
      "cell_type": "markdown",
      "metadata": {
        "id": "uA60QRTjuvAI"
      },
      "source": [
        "#### **1.4 MIA (нелинейный)**"
      ]
    },
    {
      "cell_type": "markdown",
      "metadata": {
        "id": "aKzsKt_iuvAI"
      },
      "source": [
        "итеративный алгоритм, который строит модель по слоям, усложняя её на каждом шаге."
      ]
    },
    {
      "cell_type": "code",
      "execution_count": 10,
      "metadata": {
        "colab": {
          "base_uri": "https://localhost:8080/"
        },
        "id": "gEAzVOTOuvAI",
        "outputId": "36288c46-5869-4e15-b4ed-1c6cb752096d"
      },
      "outputs": [
        {
          "output_type": "stream",
          "name": "stdout",
          "text": [
            "MIA: MAE = 2.82, MSE = 19.45, R² = 0.73\n"
          ]
        }
      ],
      "source": [
        "mia_model = gmdh.Mia()\n",
        "mia_model.fit(X_train, y_train)\n",
        "y_pred_mia = mia_model.predict(X_test)\n",
        "evaluate_model(\"MIA\", y_test, y_pred_mia)"
      ]
    },
    {
      "cell_type": "markdown",
      "metadata": {
        "id": "aptdSTnJuvAJ"
      },
      "source": [
        "### **2. Сравнение моделей**"
      ]
    },
    {
      "cell_type": "markdown",
      "source": [
        "1) MAE (Mean Absolute Error) - средняя абсолютная ошибка\n",
        "2) MSE (Mean Squared Error) - средняя квадратичная ошибка\n",
        "3)R^2 (R-squared) - доля объяснённой дисперсии"
      ],
      "metadata": {
        "id": "RILGij1FwM7h"
      }
    },
    {
      "cell_type": "code",
      "execution_count": 11,
      "metadata": {
        "colab": {
          "base_uri": "https://localhost:8080/"
        },
        "id": "wNL1N6tfuvAJ",
        "outputId": "fd7b61a2-eee9-48ff-f132-3404fa2dbd45"
      },
      "outputs": [
        {
          "output_type": "stream",
          "name": "stdout",
          "text": [
            "\n",
            "Оценка качества моделей:\n",
            "Stacking: MAE = 2.42, MSE = 12.36, R² = 0.83\n",
            "MLP: MAE = 2.32, MSE = 13.18, R² = 0.82\n",
            "COMBI: MAE = 3.20, MSE = 25.15, R² = 0.66\n",
            "MIA: MAE = 2.82, MSE = 19.45, R² = 0.73\n"
          ]
        }
      ],
      "source": [
        "print(\"\\nОценка качества моделей:\")\n",
        "evaluate_model(\"Stacking\", y_test, y_pred_stack)\n",
        "evaluate_model(\"MLP\", y_test, y_pred_mlp)\n",
        "evaluate_model(\"COMBI\", y_test, y_pred_combi)\n",
        "evaluate_model(\"MIA\", y_test, y_pred_mia)"
      ]
    },
    {
      "cell_type": "code",
      "source": [
        "!pip install numpy==1.24.4 scikit-learn==1.2.2 pandas==1.5.3 gmdh"
      ],
      "metadata": {
        "colab": {
          "base_uri": "https://localhost:8080/",
          "height": 829
        },
        "id": "EAiTuDyRvHTL",
        "outputId": "2eef00bc-df3a-452c-c824-bcddb5f9d9ad"
      },
      "execution_count": 2,
      "outputs": [
        {
          "output_type": "stream",
          "name": "stdout",
          "text": [
            "Collecting numpy==1.24.4\n",
            "  Downloading numpy-1.24.4-cp311-cp311-manylinux_2_17_x86_64.manylinux2014_x86_64.whl.metadata (5.6 kB)\n",
            "Collecting scikit-learn==1.2.2\n",
            "  Downloading scikit_learn-1.2.2-cp311-cp311-manylinux_2_17_x86_64.manylinux2014_x86_64.whl.metadata (11 kB)\n",
            "Collecting pandas==1.5.3\n",
            "  Downloading pandas-1.5.3-cp311-cp311-manylinux_2_17_x86_64.manylinux2014_x86_64.whl.metadata (11 kB)\n",
            "Requirement already satisfied: gmdh in /usr/local/lib/python3.11/dist-packages (1.0.3)\n",
            "Requirement already satisfied: scipy>=1.3.2 in /usr/local/lib/python3.11/dist-packages (from scikit-learn==1.2.2) (1.15.3)\n",
            "Requirement already satisfied: joblib>=1.1.1 in /usr/local/lib/python3.11/dist-packages (from scikit-learn==1.2.2) (1.5.0)\n",
            "Requirement already satisfied: threadpoolctl>=2.0.0 in /usr/local/lib/python3.11/dist-packages (from scikit-learn==1.2.2) (3.6.0)\n",
            "Requirement already satisfied: python-dateutil>=2.8.1 in /usr/local/lib/python3.11/dist-packages (from pandas==1.5.3) (2.9.0.post0)\n",
            "Requirement already satisfied: pytz>=2020.1 in /usr/local/lib/python3.11/dist-packages (from pandas==1.5.3) (2025.2)\n",
            "Requirement already satisfied: docstring-inheritance in /usr/local/lib/python3.11/dist-packages (from gmdh) (2.2.2)\n",
            "Requirement already satisfied: six>=1.5 in /usr/local/lib/python3.11/dist-packages (from python-dateutil>=2.8.1->pandas==1.5.3) (1.17.0)\n",
            "Downloading numpy-1.24.4-cp311-cp311-manylinux_2_17_x86_64.manylinux2014_x86_64.whl (17.3 MB)\n",
            "\u001b[2K   \u001b[90m━━━━━━━━━━━━━━━━━━━━━━━━━━━━━━━━━━━━━━━━\u001b[0m \u001b[32m17.3/17.3 MB\u001b[0m \u001b[31m86.7 MB/s\u001b[0m eta \u001b[36m0:00:00\u001b[0m\n",
            "\u001b[?25hDownloading scikit_learn-1.2.2-cp311-cp311-manylinux_2_17_x86_64.manylinux2014_x86_64.whl (9.6 MB)\n",
            "\u001b[2K   \u001b[90m━━━━━━━━━━━━━━━━━━━━━━━━━━━━━━━━━━━━━━━━\u001b[0m \u001b[32m9.6/9.6 MB\u001b[0m \u001b[31m102.9 MB/s\u001b[0m eta \u001b[36m0:00:00\u001b[0m\n",
            "\u001b[?25hDownloading pandas-1.5.3-cp311-cp311-manylinux_2_17_x86_64.manylinux2014_x86_64.whl (12.0 MB)\n",
            "\u001b[2K   \u001b[90m━━━━━━━━━━━━━━━━━━━━━━━━━━━━━━━━━━━━━━━━\u001b[0m \u001b[32m12.0/12.0 MB\u001b[0m \u001b[31m97.4 MB/s\u001b[0m eta \u001b[36m0:00:00\u001b[0m\n",
            "\u001b[?25hInstalling collected packages: numpy, pandas, scikit-learn\n",
            "\u001b[31mERROR: pip's dependency resolver does not currently take into account all the packages that are installed. This behaviour is the source of the following dependency conflicts.\n",
            "google-colab 1.0.0 requires pandas==2.2.2, but you have pandas 1.5.3 which is incompatible.\n",
            "imbalanced-learn 0.13.0 requires scikit-learn<2,>=1.3.2, but you have scikit-learn 1.2.2 which is incompatible.\n",
            "jaxlib 0.5.1 requires numpy>=1.25, but you have numpy 1.24.4 which is incompatible.\n",
            "pymc 5.22.0 requires numpy>=1.25.0, but you have numpy 1.24.4 which is incompatible.\n",
            "blosc2 3.3.3 requires numpy>=1.26, but you have numpy 1.24.4 which is incompatible.\n",
            "xarray 2025.3.1 requires pandas>=2.1, but you have pandas 1.5.3 which is incompatible.\n",
            "tensorflow 2.18.0 requires numpy<2.1.0,>=1.26.0, but you have numpy 1.24.4 which is incompatible.\n",
            "mlxtend 0.23.4 requires scikit-learn>=1.3.1, but you have scikit-learn 1.2.2 which is incompatible.\n",
            "mizani 0.13.5 requires pandas>=2.2.0, but you have pandas 1.5.3 which is incompatible.\n",
            "plotnine 0.14.5 requires pandas>=2.2.0, but you have pandas 1.5.3 which is incompatible.\n",
            "dask-expr 1.1.21 requires pandas>=2, but you have pandas 1.5.3 which is incompatible.\n",
            "dask-cudf-cu12 25.2.2 requires pandas<2.2.4dev0,>=2.0, but you have pandas 1.5.3 which is incompatible.\n",
            "cudf-cu12 25.2.1 requires pandas<2.2.4dev0,>=2.0, but you have pandas 1.5.3 which is incompatible.\n",
            "thinc 8.3.6 requires numpy<3.0.0,>=2.0.0, but you have numpy 1.24.4 which is incompatible.\n",
            "treescope 0.1.9 requires numpy>=1.25.2, but you have numpy 1.24.4 which is incompatible.\n",
            "jax 0.5.2 requires numpy>=1.25, but you have numpy 1.24.4 which is incompatible.\u001b[0m\u001b[31m\n",
            "\u001b[0mSuccessfully installed numpy-1.24.4 pandas-1.5.3 scikit-learn-1.2.2\n"
          ]
        },
        {
          "output_type": "display_data",
          "data": {
            "application/vnd.colab-display-data+json": {
              "pip_warning": {
                "packages": [
                  "numpy"
                ]
              },
              "id": "53f719c688fe472ba351c310262bb1f1"
            }
          },
          "metadata": {}
        }
      ]
    }
  ],
  "metadata": {
    "kernelspec": {
      "display_name": "Python 3",
      "name": "python3"
    },
    "language_info": {
      "codemirror_mode": {
        "name": "ipython",
        "version": 3
      },
      "file_extension": ".py",
      "mimetype": "text/x-python",
      "name": "python",
      "nbconvert_exporter": "python",
      "pygments_lexer": "ipython3",
      "version": "3.11.9"
    },
    "colab": {
      "provenance": []
    }
  },
  "nbformat": 4,
  "nbformat_minor": 0
}