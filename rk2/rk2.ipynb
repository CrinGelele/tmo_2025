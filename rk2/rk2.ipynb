{
 "cells": [
  {
   "cell_type": "markdown",
   "id": "a504c2bf",
   "metadata": {},
   "source": [
    "### **РК№2**"
   ]
  },
  {
   "cell_type": "markdown",
   "id": "8a03bf3a",
   "metadata": {},
   "source": [
    "Сергеев Максим ИУ5-64Б"
   ]
  },
  {
   "cell_type": "markdown",
   "id": "e3611a32",
   "metadata": {},
   "source": [
    "Вариант 12"
   ]
  },
  {
   "cell_type": "markdown",
   "id": "b69ef6ff",
   "metadata": {},
   "source": [
    "### **Загрузка данных и импорт необходимых библиотек**"
   ]
  },
  {
   "cell_type": "code",
   "execution_count": 1,
   "id": "ef34a56e",
   "metadata": {},
   "outputs": [],
   "source": [
    "import pandas as pd\n",
    "import matplotlib.pyplot as plt\n",
    "import seaborn as sns\n",
    "from sklearn.model_selection import train_test_split\n",
    "from sklearn.preprocessing import LabelEncoder, StandardScaler\n",
    "from sklearn.impute import SimpleImputer\n",
    "from sklearn.linear_model import LogisticRegression\n",
    "from sklearn.ensemble import GradientBoostingClassifier\n",
    "from sklearn.metrics import accuracy_score, f1_score, confusion_matrix\n"
   ]
  },
  {
   "cell_type": "code",
   "execution_count": 7,
   "id": "9ebe71c4",
   "metadata": {},
   "outputs": [
    {
     "data": {
      "text/html": [
       "<div>\n",
       "<style scoped>\n",
       "    .dataframe tbody tr th:only-of-type {\n",
       "        vertical-align: middle;\n",
       "    }\n",
       "\n",
       "    .dataframe tbody tr th {\n",
       "        vertical-align: top;\n",
       "    }\n",
       "\n",
       "    .dataframe thead th {\n",
       "        text-align: right;\n",
       "    }\n",
       "</style>\n",
       "<table border=\"1\" class=\"dataframe\">\n",
       "  <thead>\n",
       "    <tr style=\"text-align: right;\">\n",
       "      <th></th>\n",
       "      <th>page_id</th>\n",
       "      <th>name</th>\n",
       "      <th>urlslug</th>\n",
       "      <th>ID</th>\n",
       "      <th>ALIGN</th>\n",
       "      <th>EYE</th>\n",
       "      <th>HAIR</th>\n",
       "      <th>SEX</th>\n",
       "      <th>GSM</th>\n",
       "      <th>ALIVE</th>\n",
       "      <th>APPEARANCES</th>\n",
       "      <th>FIRST APPEARANCE</th>\n",
       "      <th>YEAR</th>\n",
       "    </tr>\n",
       "  </thead>\n",
       "  <tbody>\n",
       "    <tr>\n",
       "      <th>0</th>\n",
       "      <td>1422</td>\n",
       "      <td>Batman (Bruce Wayne)</td>\n",
       "      <td>\\/wiki\\/Batman_(Bruce_Wayne)</td>\n",
       "      <td>Secret Identity</td>\n",
       "      <td>Good Characters</td>\n",
       "      <td>Blue Eyes</td>\n",
       "      <td>Black Hair</td>\n",
       "      <td>Male Characters</td>\n",
       "      <td>NaN</td>\n",
       "      <td>Living Characters</td>\n",
       "      <td>3093.0</td>\n",
       "      <td>1939, May</td>\n",
       "      <td>1939.0</td>\n",
       "    </tr>\n",
       "    <tr>\n",
       "      <th>1</th>\n",
       "      <td>23387</td>\n",
       "      <td>Superman (Clark Kent)</td>\n",
       "      <td>\\/wiki\\/Superman_(Clark_Kent)</td>\n",
       "      <td>Secret Identity</td>\n",
       "      <td>Good Characters</td>\n",
       "      <td>Blue Eyes</td>\n",
       "      <td>Black Hair</td>\n",
       "      <td>Male Characters</td>\n",
       "      <td>NaN</td>\n",
       "      <td>Living Characters</td>\n",
       "      <td>2496.0</td>\n",
       "      <td>1986, October</td>\n",
       "      <td>1986.0</td>\n",
       "    </tr>\n",
       "    <tr>\n",
       "      <th>2</th>\n",
       "      <td>1458</td>\n",
       "      <td>Green Lantern (Hal Jordan)</td>\n",
       "      <td>\\/wiki\\/Green_Lantern_(Hal_Jordan)</td>\n",
       "      <td>Secret Identity</td>\n",
       "      <td>Good Characters</td>\n",
       "      <td>Brown Eyes</td>\n",
       "      <td>Brown Hair</td>\n",
       "      <td>Male Characters</td>\n",
       "      <td>NaN</td>\n",
       "      <td>Living Characters</td>\n",
       "      <td>1565.0</td>\n",
       "      <td>1959, October</td>\n",
       "      <td>1959.0</td>\n",
       "    </tr>\n",
       "    <tr>\n",
       "      <th>3</th>\n",
       "      <td>1659</td>\n",
       "      <td>James Gordon (New Earth)</td>\n",
       "      <td>\\/wiki\\/James_Gordon_(New_Earth)</td>\n",
       "      <td>Public Identity</td>\n",
       "      <td>Good Characters</td>\n",
       "      <td>Brown Eyes</td>\n",
       "      <td>White Hair</td>\n",
       "      <td>Male Characters</td>\n",
       "      <td>NaN</td>\n",
       "      <td>Living Characters</td>\n",
       "      <td>1316.0</td>\n",
       "      <td>1987, February</td>\n",
       "      <td>1987.0</td>\n",
       "    </tr>\n",
       "    <tr>\n",
       "      <th>4</th>\n",
       "      <td>1576</td>\n",
       "      <td>Richard Grayson (New Earth)</td>\n",
       "      <td>\\/wiki\\/Richard_Grayson_(New_Earth)</td>\n",
       "      <td>Secret Identity</td>\n",
       "      <td>Good Characters</td>\n",
       "      <td>Blue Eyes</td>\n",
       "      <td>Black Hair</td>\n",
       "      <td>Male Characters</td>\n",
       "      <td>NaN</td>\n",
       "      <td>Living Characters</td>\n",
       "      <td>1237.0</td>\n",
       "      <td>1940, April</td>\n",
       "      <td>1940.0</td>\n",
       "    </tr>\n",
       "  </tbody>\n",
       "</table>\n",
       "</div>"
      ],
      "text/plain": [
       "   page_id                         name                              urlslug  \\\n",
       "0     1422         Batman (Bruce Wayne)         \\/wiki\\/Batman_(Bruce_Wayne)   \n",
       "1    23387        Superman (Clark Kent)        \\/wiki\\/Superman_(Clark_Kent)   \n",
       "2     1458   Green Lantern (Hal Jordan)   \\/wiki\\/Green_Lantern_(Hal_Jordan)   \n",
       "3     1659     James Gordon (New Earth)     \\/wiki\\/James_Gordon_(New_Earth)   \n",
       "4     1576  Richard Grayson (New Earth)  \\/wiki\\/Richard_Grayson_(New_Earth)   \n",
       "\n",
       "                ID            ALIGN         EYE        HAIR              SEX  \\\n",
       "0  Secret Identity  Good Characters   Blue Eyes  Black Hair  Male Characters   \n",
       "1  Secret Identity  Good Characters   Blue Eyes  Black Hair  Male Characters   \n",
       "2  Secret Identity  Good Characters  Brown Eyes  Brown Hair  Male Characters   \n",
       "3  Public Identity  Good Characters  Brown Eyes  White Hair  Male Characters   \n",
       "4  Secret Identity  Good Characters   Blue Eyes  Black Hair  Male Characters   \n",
       "\n",
       "   GSM              ALIVE  APPEARANCES FIRST APPEARANCE    YEAR  \n",
       "0  NaN  Living Characters       3093.0        1939, May  1939.0  \n",
       "1  NaN  Living Characters       2496.0    1986, October  1986.0  \n",
       "2  NaN  Living Characters       1565.0    1959, October  1959.0  \n",
       "3  NaN  Living Characters       1316.0   1987, February  1987.0  \n",
       "4  NaN  Living Characters       1237.0      1940, April  1940.0  "
      ]
     },
     "execution_count": 7,
     "metadata": {},
     "output_type": "execute_result"
    }
   ],
   "source": [
    "# Загрузка данных\n",
    "data = pd.read_csv('data/dc-wikia-data.csv')\n",
    "data.head()"
   ]
  },
  {
   "cell_type": "markdown",
   "id": "844b3a64",
   "metadata": {},
   "source": [
    "## Предварительный анализ и отбор целевой переменной\n",
    "Целевой переменной в данной задаче выберем `SEX` — пол персонажа. Ограничим данные только строками, где явно указан пол (мужской или женский)."
   ]
  },
  {
   "cell_type": "code",
   "execution_count": 8,
   "id": "95dfb89e",
   "metadata": {},
   "outputs": [],
   "source": [
    "# Удалим строки с неопределенным полом\n",
    "data = data[data['SEX'].isin(['Male Characters', 'Female Characters'])]"
   ]
  },
  {
   "cell_type": "markdown",
   "id": "15c23826",
   "metadata": {},
   "source": [
    "### **Выбор признаков**\n",
    "Выберем признаки, влияющие на пол персонажа (цвет глаз, цвет волос, хорошесть :) )"
   ]
  },
  {
   "cell_type": "code",
   "execution_count": 10,
   "id": "03a3c650",
   "metadata": {},
   "outputs": [],
   "source": [
    "# Упрощение и отбор признаков\n",
    "features = ['EYE', 'HAIR', 'ALIGN']\n",
    "X = data[features]\n",
    "y = data['SEX']"
   ]
  },
  {
   "cell_type": "markdown",
   "id": "44ff6b06",
   "metadata": {},
   "source": [
    "### **Обработка пропусков**\n",
    "Пропущенные значения будут заполнены наиболее частыми (модой) для соответствующего признака."
   ]
  },
  {
   "cell_type": "code",
   "execution_count": 11,
   "id": "f09df04d",
   "metadata": {},
   "outputs": [],
   "source": [
    "# Обработка пропусков\n",
    "imputer = SimpleImputer(strategy='most_frequent')\n",
    "X_imputed = pd.DataFrame(imputer.fit_transform(X), columns=X.columns)"
   ]
  },
  {
   "cell_type": "markdown",
   "id": "4f1adbf4",
   "metadata": {},
   "source": [
    "### **Кодирование признаков**"
   ]
  },
  {
   "cell_type": "code",
   "execution_count": 12,
   "id": "ac9cf0ae",
   "metadata": {},
   "outputs": [],
   "source": [
    "# Кодирование категориальных признаков\n",
    "X_encoded = pd.get_dummies(X_imputed)"
   ]
  },
  {
   "cell_type": "markdown",
   "id": "4d139aa4",
   "metadata": {},
   "source": [
    "### **Разделение данных на обучающую и тестовую выборки**\n",
    "Тестовая выборка составит 20% от всего набора. Обучение будет проводиться на 80%."
   ]
  },
  {
   "cell_type": "code",
   "execution_count": 14,
   "id": "e70edd86",
   "metadata": {},
   "outputs": [],
   "source": [
    "# Кодирование целевой переменной\n",
    "y_encoded = LabelEncoder().fit_transform(y)\n",
    "# Разделение данных\n",
    "X_train, X_test, y_train, y_test = train_test_split(X_encoded, y_encoded, test_size=0.2, random_state=42)"
   ]
  },
  {
   "cell_type": "markdown",
   "id": "67d7ce70",
   "metadata": {},
   "source": [
    "### **Обучение моделей**\n",
    "Мы обучим две модели:\n",
    "- Логистическая регрессия\n",
    "- Градиентный бустинг"
   ]
  },
  {
   "cell_type": "code",
   "execution_count": 16,
   "id": "23c6d2f4",
   "metadata": {},
   "outputs": [],
   "source": [
    "lr_model = LogisticRegression(max_iter=1000)\n",
    "lr_model.fit(X_train, y_train)\n",
    "lr_preds = lr_model.predict(X_test)"
   ]
  },
  {
   "cell_type": "code",
   "execution_count": 17,
   "id": "af4ac010",
   "metadata": {},
   "outputs": [],
   "source": [
    "gb_model = GradientBoostingClassifier(random_state=42)\n",
    "gb_model.fit(X_train, y_train)\n",
    "gb_preds = gb_model.predict(X_test)"
   ]
  },
  {
   "cell_type": "markdown",
   "id": "a47b306f",
   "metadata": {},
   "source": [
    "### **Оценка качества моделей**\n",
    "Оценим модели с использованием метрик:\n",
    "- **Accuracy** — доля верных предсказаний\n",
    "- **F1 Score** — гармоническое среднее точности и полноты, особенно важно при дисбалансе классов"
   ]
  },
  {
   "cell_type": "code",
   "execution_count": 20,
   "id": "f0b1e1c0",
   "metadata": {},
   "outputs": [
    {
     "name": "stdout",
     "output_type": "stream",
     "text": [
      "--- Линейная/логистическая регрессия ---\n",
      "Accuracy: 0.7355555555555555\n",
      "F1 Score: 0.8382419574082465\n",
      "\n",
      "--- Градиентный бустинг ---\n",
      "Accuracy: 0.7296296296296296\n",
      "F1 Score: 0.8378498445135495\n"
     ]
    }
   ],
   "source": [
    "print(\"--- Линейная/логистическая регрессия ---\")\n",
    "print(\"Accuracy:\", accuracy_score(y_test, lr_preds))\n",
    "print(\"F1 Score:\", f1_score(y_test, lr_preds))\n",
    "cm_lr = confusion_matrix(y_test, lr_preds)\n",
    "\n",
    "print(\"\\n--- Градиентный бустинг ---\")\n",
    "print(\"Accuracy:\", accuracy_score(y_test, gb_preds))\n",
    "print(\"F1 Score:\", f1_score(y_test, gb_preds))\n",
    "cm_gb = confusion_matrix(y_test, gb_preds)"
   ]
  },
  {
   "cell_type": "code",
   "execution_count": 21,
   "id": "9aeb9a5a",
   "metadata": {},
   "outputs": [
    {
     "data": {
      "image/png": "[encoded data removed]",
      "text/plain": [
       "<Figure size 1400x500 with 4 Axes>"
      ]
     },
     "metadata": {},
     "output_type": "display_data"
    }
   ],
   "source": [
    "# Визуализация матриц ошибок\n",
    "fig, axs = plt.subplots(1, 2, figsize=(14, 5))\n",
    "\n",
    "# Линейная/логистическая регрессия\n",
    "sns.heatmap(cm_lr, annot=True, fmt='d', cmap='Blues', ax=axs[0])\n",
    "axs[0].set_title('Confusion Matrix - Логистическая регрессия')\n",
    "axs[0].set_xlabel('Predicted')\n",
    "axs[0].set_ylabel('Actual')\n",
    "axs[0].set_xticklabels(['Female', 'Male'])\n",
    "axs[0].set_yticklabels(['Female', 'Male'])\n",
    "\n",
    "# Градиентный бустинг\n",
    "sns.heatmap(cm_gb, annot=True, fmt='d', cmap='Greens', ax=axs[1])\n",
    "axs[1].set_title('Confusion Matrix - Градиентный бустинг')\n",
    "axs[1].set_xlabel('Predicted')\n",
    "axs[1].set_ylabel('Actual')\n",
    "axs[1].set_xticklabels(['Female', 'Male'])\n",
    "axs[1].set_yticklabels(['Female', 'Male'])\n",
    "\n",
    "plt.tight_layout()\n",
    "plt.show()"
   ]
  },
  {
   "cell_type": "markdown",
   "id": "231b4572",
   "metadata": {},
   "source": [
    "### Вывод:\n",
    "- **Линейная/логистическая регрессия** показывает базовое качество классификации, простая в реализации и интерпретации.\n",
    "- **Градиентный бустинг** обеспечивает более высокую точность и F1-мегрику, особенно при наличии сложных зависимостей между признаками.\n",
    "- В условиях дисбаланса классов (больше мужских персонажей), **F1 Score** остаётся приоритетной метрикой для объективной оценки модели.\n"
   ]
  }
 ],
 "metadata": {
  "kernelspec": {
   "display_name": "Python 3",
   "language": "python",
   "name": "python3"
  },
  "language_info": {
   "codemirror_mode": {
    "name": "ipython",
    "version": 3
   },
   "file_extension": ".py",
   "mimetype": "text/x-python",
   "name": "python",
   "nbconvert_exporter": "python",
   "pygments_lexer": "ipython3",
   "version": "3.12.3"
  }
 },
 "nbformat": 4,
 "nbformat_minor": 5
}
